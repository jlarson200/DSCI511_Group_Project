{
 "cells": [
  {
   "cell_type": "code",
   "execution_count": 1,
   "metadata": {},
   "outputs": [
    {
     "name": "stdout",
     "output_type": "stream",
     "text": [
      "Requirement already satisfied: alpha_vantage in c:\\programdata\\anaconda3\\lib\\site-packages (2.1.1)\n",
      "Requirement already satisfied: requests in c:\\programdata\\anaconda3\\lib\\site-packages (from alpha_vantage) (2.22.0)\n",
      "Requirement already satisfied: certifi>=2017.4.17 in c:\\programdata\\anaconda3\\lib\\site-packages (from requests->alpha_vantage) (2019.6.16)\n",
      "Requirement already satisfied: chardet<3.1.0,>=3.0.2 in c:\\programdata\\anaconda3\\lib\\site-packages (from requests->alpha_vantage) (3.0.4)\n",
      "Requirement already satisfied: urllib3!=1.25.0,!=1.25.1,<1.26,>=1.21.1 in c:\\programdata\\anaconda3\\lib\\site-packages (from requests->alpha_vantage) (1.24.2)\n",
      "Requirement already satisfied: idna<2.9,>=2.5 in c:\\programdata\\anaconda3\\lib\\site-packages (from requests->alpha_vantage) (2.8)\n"
     ]
    }
   ],
   "source": [
    "# https://blog.quantinsti.com/stock-market-data-analysis-python/\n",
    "\n",
    "# Install the alpha_vantage if not already installed\n",
    "#!pip install alpha_vantage\n",
    "# you need an API to make this work - they are free.\n"
   ]
  },
  {
   "cell_type": "code",
   "execution_count": 10,
   "metadata": {},
   "outputs": [
    {
     "data": {
      "text/plain": [
       "{'1. Information': 'Intraday (1min) open, high, low, close prices and volume',\n",
       " '2. Symbol': 'AMZN',\n",
       " '3. Last Refreshed': '2019-10-11 16:00:00',\n",
       " '4. Interval': '1min',\n",
       " '5. Output Size': 'Full size',\n",
       " '6. Time Zone': 'US/Eastern'}"
      ]
     },
     "execution_count": 10,
     "metadata": {},
     "output_type": "execute_result"
    }
   ],
   "source": [
    "# Import TimeSeries class\n",
    "from alpha_vantage.timeseries import TimeSeries\n",
    "ALPHA_VANTAGE_API_KEY = 'REPLACE-THIS-TEXT-WITH-A-REAL-API-KEY'\n",
    "# This is to prompt you to change the ALPHA_VANTAGE Key\n",
    "if ALPHA_VANTAGE_API_KEY == 'REPLACE-THIS-TEXT-WITH-A-REAL-API-KEY':\n",
    " raise Exception(\"Please provide a valid Alpha Vantage API key!\")\n",
    "# Initialize the TimeSeries class with key and output format\n",
    "ts = TimeSeries(key=ALPHA_VANTAGE_API_KEY, output_format='pandas')\n",
    "# Get pandas dataframe with the intraday data and information of the data\n",
    "intraday_data, data_info = ts.get_intraday(\n",
    " 'AMZN', outputsize='full', interval='1min')\n",
    "# Print the information of the data\n",
    "data_info"
   ]
  },
  {
   "cell_type": "code",
   "execution_count": 11,
   "metadata": {},
   "outputs": [
    {
     "data": {
      "text/plain": [
       "{'1. Information': 'Intraday (1min) open, high, low, close prices and volume',\n",
       " '2. Symbol': 'AMZN',\n",
       " '3. Last Refreshed': '2019-10-01 16:00:00',\n",
       " '4. Interval': '1min',\n",
       " '5. Output Size': 'Full size',\n",
       " '6. Time Zone': 'US/Eastern'}"
      ]
     },
     "execution_count": 11,
     "metadata": {},
     "output_type": "execute_result"
    }
   ],
   "source": [
    "{'1. Information': 'Intraday (1min) open, high, low, close prices and volume',\n",
    " '2. Symbol': 'AMZN',\n",
    " '3. Last Refreshed': '2019-10-01 16:00:00',\n",
    " '4. Interval': '1min',\n",
    " '5. Output Size': 'Full size',\n",
    " '6. Time Zone': 'US/Eastern'}"
   ]
  },
  {
   "cell_type": "code",
   "execution_count": 15,
   "metadata": {},
   "outputs": [
    {
     "data": {
      "text/html": [
       "<div>\n",
       "<style scoped>\n",
       "    .dataframe tbody tr th:only-of-type {\n",
       "        vertical-align: middle;\n",
       "    }\n",
       "\n",
       "    .dataframe tbody tr th {\n",
       "        vertical-align: top;\n",
       "    }\n",
       "\n",
       "    .dataframe thead th {\n",
       "        text-align: right;\n",
       "    }\n",
       "</style>\n",
       "<table border=\"1\" class=\"dataframe\">\n",
       "  <thead>\n",
       "    <tr style=\"text-align: right;\">\n",
       "      <th></th>\n",
       "      <th>1. open</th>\n",
       "      <th>2. high</th>\n",
       "      <th>3. low</th>\n",
       "      <th>4. close</th>\n",
       "      <th>5. volume</th>\n",
       "    </tr>\n",
       "    <tr>\n",
       "      <th>date</th>\n",
       "      <th></th>\n",
       "      <th></th>\n",
       "      <th></th>\n",
       "      <th></th>\n",
       "      <th></th>\n",
       "    </tr>\n",
       "  </thead>\n",
       "  <tbody>\n",
       "    <tr>\n",
       "      <th>2019-10-07 09:31:00</th>\n",
       "      <td>1732.74</td>\n",
       "      <td>1732.74</td>\n",
       "      <td>1732.74</td>\n",
       "      <td>1732.7400</td>\n",
       "      <td>62635.0</td>\n",
       "    </tr>\n",
       "    <tr>\n",
       "      <th>2019-10-07 09:32:00</th>\n",
       "      <td>1732.05</td>\n",
       "      <td>1734.50</td>\n",
       "      <td>1732.05</td>\n",
       "      <td>1733.9785</td>\n",
       "      <td>8113.0</td>\n",
       "    </tr>\n",
       "    <tr>\n",
       "      <th>2019-10-07 09:33:00</th>\n",
       "      <td>1733.50</td>\n",
       "      <td>1736.48</td>\n",
       "      <td>1733.50</td>\n",
       "      <td>1736.3499</td>\n",
       "      <td>15515.0</td>\n",
       "    </tr>\n",
       "    <tr>\n",
       "      <th>2019-10-07 09:34:00</th>\n",
       "      <td>1736.23</td>\n",
       "      <td>1736.23</td>\n",
       "      <td>1733.96</td>\n",
       "      <td>1734.9967</td>\n",
       "      <td>9475.0</td>\n",
       "    </tr>\n",
       "    <tr>\n",
       "      <th>2019-10-07 09:35:00</th>\n",
       "      <td>1733.41</td>\n",
       "      <td>1734.03</td>\n",
       "      <td>1733.41</td>\n",
       "      <td>1734.0300</td>\n",
       "      <td>11066.0</td>\n",
       "    </tr>\n",
       "  </tbody>\n",
       "</table>\n",
       "</div>"
      ],
      "text/plain": [
       "                     1. open  2. high   3. low   4. close  5. volume\n",
       "date                                                                \n",
       "2019-10-07 09:31:00  1732.74  1732.74  1732.74  1732.7400    62635.0\n",
       "2019-10-07 09:32:00  1732.05  1734.50  1732.05  1733.9785     8113.0\n",
       "2019-10-07 09:33:00  1733.50  1736.48  1733.50  1736.3499    15515.0\n",
       "2019-10-07 09:34:00  1736.23  1736.23  1733.96  1734.9967     9475.0\n",
       "2019-10-07 09:35:00  1733.41  1734.03  1733.41  1734.0300    11066.0"
      ]
     },
     "execution_count": 15,
     "metadata": {},
     "output_type": "execute_result"
    }
   ],
   "source": [
    "# Print the intraday data\n",
    "intraday_data.head()\n",
    "#intraday_data.tail()"
   ]
  },
  {
   "cell_type": "code",
   "execution_count": 13,
   "metadata": {},
   "outputs": [
    {
     "ename": "NameError",
     "evalue": "name 'plt' is not defined",
     "output_type": "error",
     "traceback": [
      "\u001b[1;31m---------------------------------------------------------------------------\u001b[0m",
      "\u001b[1;31mNameError\u001b[0m                                 Traceback (most recent call last)",
      "\u001b[1;32m<ipython-input-13-c0506ef2d7ac>\u001b[0m in \u001b[0;36m<module>\u001b[1;34m\u001b[0m\n\u001b[0;32m      1\u001b[0m \u001b[0mintraday_data\u001b[0m\u001b[1;33m[\u001b[0m\u001b[1;34m'4. close'\u001b[0m\u001b[1;33m]\u001b[0m\u001b[1;33m.\u001b[0m\u001b[0mplot\u001b[0m\u001b[1;33m(\u001b[0m\u001b[0mfigsize\u001b[0m\u001b[1;33m=\u001b[0m\u001b[1;33m(\u001b[0m\u001b[1;36m10\u001b[0m\u001b[1;33m,\u001b[0m \u001b[1;36m7\u001b[0m\u001b[1;33m)\u001b[0m\u001b[1;33m)\u001b[0m\u001b[1;33m\u001b[0m\u001b[1;33m\u001b[0m\u001b[0m\n\u001b[0;32m      2\u001b[0m \u001b[1;31m# Define the label for the title of the figure\u001b[0m\u001b[1;33m\u001b[0m\u001b[1;33m\u001b[0m\u001b[1;33m\u001b[0m\u001b[0m\n\u001b[1;32m----> 3\u001b[1;33m \u001b[0mplt\u001b[0m\u001b[1;33m.\u001b[0m\u001b[0mtitle\u001b[0m\u001b[1;33m(\u001b[0m\u001b[1;34m\"Close Price\"\u001b[0m\u001b[1;33m,\u001b[0m \u001b[0mfontsize\u001b[0m\u001b[1;33m=\u001b[0m\u001b[1;36m16\u001b[0m\u001b[1;33m)\u001b[0m\u001b[1;33m\u001b[0m\u001b[1;33m\u001b[0m\u001b[0m\n\u001b[0m\u001b[0;32m      4\u001b[0m \u001b[1;31m# Define the labels for x-axis and y-axis\u001b[0m\u001b[1;33m\u001b[0m\u001b[1;33m\u001b[0m\u001b[1;33m\u001b[0m\u001b[0m\n\u001b[0;32m      5\u001b[0m \u001b[0mplt\u001b[0m\u001b[1;33m.\u001b[0m\u001b[0mylabel\u001b[0m\u001b[1;33m(\u001b[0m\u001b[1;34m'Price'\u001b[0m\u001b[1;33m,\u001b[0m \u001b[0mfontsize\u001b[0m\u001b[1;33m=\u001b[0m\u001b[1;36m14\u001b[0m\u001b[1;33m)\u001b[0m\u001b[1;33m\u001b[0m\u001b[1;33m\u001b[0m\u001b[0m\n",
      "\u001b[1;31mNameError\u001b[0m: name 'plt' is not defined"
     ]
    },
    {
     "data": {
      "image/png": "[encoded data removed]",
      "text/plain": [
       "<Figure size 720x504 with 1 Axes>"
      ]
     },
     "metadata": {
      "needs_background": "light"
     },
     "output_type": "display_data"
    }
   ],
   "source": [
    "intraday_data['4. close'].plot(figsize=(10, 7))\n",
    "# Define the label for the title of the figure\n",
    "plt.title(\"Close Price\", fontsize=16)\n",
    "# Define the labels for x-axis and y-axis\n",
    "plt.ylabel('Price', fontsize=14)\n",
    "plt.xlabel('Time', fontsize=14)\n",
    "# Plot the grid lines\n",
    "plt.grid(which=\"major\", color='k', linestyle='-.', linewidth=0.5)\n",
    "plt.show()"
   ]
  },
  {
   "cell_type": "code",
   "execution_count": null,
   "metadata": {},
   "outputs": [],
   "source": []
  }
 ],
 "metadata": {
  "kernelspec": {
   "display_name": "Python 3",
   "language": "python",
   "name": "python3"
  },
  "language_info": {
   "codemirror_mode": {
    "name": "ipython",
    "version": 3
   },
   "file_extension": ".py",
   "mimetype": "text/x-python",
   "name": "python",
   "nbconvert_exporter": "python",
   "pygments_lexer": "ipython3",
   "version": "3.7.3"
  }
 },
 "nbformat": 4,
 "nbformat_minor": 2
}
