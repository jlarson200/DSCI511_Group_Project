{
 "cells": [
  {
   "cell_type": "code",
   "execution_count": 1,
   "metadata": {},
   "outputs": [],
   "source": [
    "import requests\n",
    "import datetime\n",
    "import pandas as pd\n",
    "import csv"
   ]
  },
  {
   "cell_type": "code",
   "execution_count": 2,
   "metadata": {},
   "outputs": [],
   "source": [
    "from _iex_keys_ import KEY, SECRET"
   ]
  },
  {
   "cell_type": "raw",
   "metadata": {},
   "source": [
    "days = []\n",
    "\n",
    "for day in range(1, 366):\n",
    "    days.append((datetime.date.today() - datetime.timedelta(day)).strftime('%y%m%d'))"
   ]
  },
  {
   "cell_type": "raw",
   "metadata": {},
   "source": [
    "sentiment = []\n",
    "\n",
    "for date in days:\n",
    "    url = f'https://sandbox.iexapis.com/stable/stock/amzn/sentiment/{date}?token=Tsk_8a94fdc83a42463b8e08c62bf982b5c9'\n",
    "    response = requests.get(url)\n",
    "    sentiment.append(response.json())"
   ]
  },
  {
   "cell_type": "raw",
   "metadata": {},
   "source": [
    "the_list = []\n",
    "\n",
    "for day in range(len(sentiment)):\n",
    "    the_list.append(list(sentiment[day].values()))"
   ]
  },
  {
   "cell_type": "raw",
   "metadata": {},
   "source": [
    "for i in range(len(days)):\n",
    "    days[i] = pd.to_datetime(days[i]).date().strftime('%d%m%y')"
   ]
  },
  {
   "cell_type": "raw",
   "metadata": {},
   "source": [
    "sentiments = pd.DataFrame(the_list, \n",
    "                          columns=['Sentiment', 'totalScores', 'Pos', 'Neg'] , \n",
    "                          index=days).sort_index(ascending=True)"
   ]
  },
  {
   "cell_type": "raw",
   "metadata": {},
   "source": [
    "sentiments['Sentiment'].plot(figsize=(100, 20))"
   ]
  },
  {
   "cell_type": "raw",
   "metadata": {},
   "source": [
    "sentiments.to_csv('sentiments_25Nov.csv')"
   ]
  },
  {
   "cell_type": "raw",
   "metadata": {},
   "source": [
    "amzn = requests.get(f'https://cloud.iexapis.com/stable/stock/amzn/advanced-stats?token={KEY}')"
   ]
  },
  {
   "cell_type": "raw",
   "metadata": {},
   "source": [
    "my_dict = amzn.json()\n",
    "with open('amzn_stats.csv', 'w') as f:\n",
    "    for key in my_dict.keys():\n",
    "        f.write(\"%s,%s\\n\"%(key,my_dict[key]))"
   ]
  },
  {
   "cell_type": "raw",
   "metadata": {},
   "source": [
    "bal_sheet = requests.get(f'https://cloud.iexapis.com/stable/stock/amzn/balance-sheet?token={KEY}')"
   ]
  },
  {
   "cell_type": "raw",
   "metadata": {},
   "source": [
    "bal_sheet.json()"
   ]
  },
  {
   "cell_type": "raw",
   "metadata": {},
   "source": [
    "my_dict = bal_sheet.json()\n",
    "my_dict = my_dict['balancesheet'][0]\n",
    "with open('amzn_balance_sheet.csv', 'w') as f:\n",
    "    for key in my_dict.keys():\n",
    "        f.write(\"%s,%s\\n\"%(key,my_dict[key]))"
   ]
  },
  {
   "cell_type": "raw",
   "metadata": {},
   "source": [
    "cash_flow = requests.get(f'https://cloud.iexapis.com/stable/stock/amzn/cash-flow?token={KEY}')"
   ]
  },
  {
   "cell_type": "raw",
   "metadata": {},
   "source": [
    "cash_flow = cash_flow.json()"
   ]
  },
  {
   "cell_type": "raw",
   "metadata": {},
   "source": [
    "cash_flow = cash_flow['cashflow'][0]"
   ]
  },
  {
   "cell_type": "raw",
   "metadata": {},
   "source": [
    "with open('amzn_cashflow.csv', 'w') as file:\n",
    "    for key in cash_flow.keys():\n",
    "        file.write(\"%s, %s\\n\" %(key, cash_flow[key]))"
   ]
  },
  {
   "cell_type": "raw",
   "metadata": {},
   "source": [
    "company = requests.get(f'https://cloud.iexapis.com/stable/stock/amzn/company?token={KEY}')"
   ]
  },
  {
   "cell_type": "raw",
   "metadata": {},
   "source": [
    "company = company.json()"
   ]
  },
  {
   "cell_type": "raw",
   "metadata": {},
   "source": [
    "with open('amzn_company.csv', 'w') as file:\n",
    "    for key in company.keys():\n",
    "        file.write(\"%s, %s\\n\" %(key, company[key]))"
   ]
  },
  {
   "cell_type": "raw",
   "metadata": {},
   "source": [
    "earnings = requests.get(f'https://cloud.iexapis.com/stable/stock/amzn/earnings?last=4&token={KEY}')"
   ]
  },
  {
   "cell_type": "raw",
   "metadata": {},
   "source": [
    "earnings = earnings.json()"
   ]
  },
  {
   "cell_type": "raw",
   "metadata": {},
   "source": [
    "earnings = pd.DataFrame(earnings['earnings']).sort_values('EPSReportDate').set_index('EPSReportDate')"
   ]
  },
  {
   "cell_type": "raw",
   "metadata": {},
   "source": [
    "earnings.to_csv('amzn_earnings.csv')"
   ]
  },
  {
   "cell_type": "raw",
   "metadata": {},
   "source": [
    "estimates = requests.get(f'https://cloud.iexapis.com/stable/stock/amzn/estimates?last=6&period=quarter&token={KEY}')"
   ]
  },
  {
   "cell_type": "raw",
   "metadata": {},
   "source": [
    "estimates = estimates.json()"
   ]
  },
  {
   "cell_type": "raw",
   "metadata": {},
   "source": [
    "estimates = estimates['estimates'][0]"
   ]
  },
  {
   "cell_type": "raw",
   "metadata": {},
   "source": [
    "estimates = pd.DataFrame([estimates])"
   ]
  },
  {
   "cell_type": "raw",
   "metadata": {},
   "source": [
    "estimates.to_csv('amzn_estimates.csv')"
   ]
  },
  {
   "cell_type": "raw",
   "metadata": {},
   "source": [
    "financials = requests.get(f'https://cloud.iexapis.com/stable/stock/amzn/financials?period=quarter&token={KEY}')"
   ]
  },
  {
   "cell_type": "raw",
   "metadata": {},
   "source": [
    "financials = financials.json()"
   ]
  },
  {
   "cell_type": "raw",
   "metadata": {},
   "source": [
    "financials = pd.DataFrame(financials['financials'])"
   ]
  },
  {
   "cell_type": "raw",
   "metadata": {},
   "source": [
    "financials.to_csv('financials.csv')"
   ]
  },
  {
   "cell_type": "raw",
   "metadata": {},
   "source": [
    "chart = requests.get(f'https://cloud.iexapis.com/stable/stock/amzn/chart/1y?period=quarter&token={KEY}')"
   ]
  },
  {
   "cell_type": "raw",
   "metadata": {},
   "source": [
    "chart = pd.DataFrame(chart.json()).sort_values('date').set_index('date')"
   ]
  },
  {
   "cell_type": "raw",
   "metadata": {},
   "source": [
    "chart.to_csv('chart_data.csv')"
   ]
  },
  {
   "cell_type": "raw",
   "metadata": {},
   "source": [
    "income_statement = requests.get()"
   ]
  },
  {
   "cell_type": "raw",
   "metadata": {},
   "source": [
    "income_statement = income_statement.json()"
   ]
  },
  {
   "cell_type": "raw",
   "metadata": {},
   "source": [
    "income_statement = pd.DataFrame(income_statement['income'])"
   ]
  },
  {
   "cell_type": "raw",
   "metadata": {},
   "source": [
    "income_statement.to_csv('income_statement.csv')"
   ]
  },
  {
   "cell_type": "raw",
   "metadata": {},
   "source": [
    "insider_transactions = requests.get(f'https://cloud.iexapis.com/stable/stock/amzn/insider-transactions?token={KEY}')"
   ]
  },
  {
   "cell_type": "raw",
   "metadata": {},
   "source": [
    "insider_transaction = pd.DataFrame(insider_transactions.json())"
   ]
  },
  {
   "cell_type": "raw",
   "metadata": {},
   "source": [
    "insider_transaction['effectiveDate'] = pd.to_datetime(insider_transaction['effectiveDate'], unit='ms')"
   ]
  },
  {
   "cell_type": "raw",
   "metadata": {},
   "source": [
    "insider_transaction = insider_transaction.set_index('effectiveDate')"
   ]
  },
  {
   "cell_type": "raw",
   "metadata": {},
   "source": [
    "insider_transaction.to_csv('insider_transations.csv')"
   ]
  },
  {
   "cell_type": "raw",
   "metadata": {},
   "source": [
    "insider_transaction['tranShares'].plot(figsize=(20,8))"
   ]
  },
  {
   "cell_type": "raw",
   "metadata": {},
   "source": [
    "peers = requests.get(f'https://cloud.iexapis.com/stable/stock/amzn/peers?token={KEY}')"
   ]
  },
  {
   "cell_type": "raw",
   "metadata": {},
   "source": [
    "peers = pd.Series(peers.json())"
   ]
  },
  {
   "cell_type": "raw",
   "metadata": {},
   "source": [
    "peers.to_csv('peers.csv', header='Peers')"
   ]
  },
  {
   "cell_type": "raw",
   "metadata": {},
   "source": [
    "price_target = requests.get(f'https://cloud.iexapis.com/stable/stock/amzn/price-target?token={KEY}')"
   ]
  },
  {
   "cell_type": "raw",
   "metadata": {},
   "source": [
    "price_target = price_target.json()"
   ]
  },
  {
   "cell_type": "raw",
   "metadata": {},
   "source": [
    "price_target = pd.DataFrame([price_target])"
   ]
  },
  {
   "cell_type": "raw",
   "metadata": {},
   "source": [
    "price_target.to_csv('price_target.csv')"
   ]
  },
  {
   "cell_type": "raw",
   "metadata": {},
   "source": [
    "recommendation_trends = requests.get(f'https://cloud.iexapis.com/stable/stock/amzn/recommendation-trends?token={KEY}')"
   ]
  },
  {
   "cell_type": "raw",
   "metadata": {},
   "source": [
    "recommendation_trends = recommendation_trends.json()"
   ]
  },
  {
   "cell_type": "raw",
   "metadata": {},
   "source": [
    "recommendation_trends = pd.DataFrame(recommendation_trends)"
   ]
  },
  {
   "cell_type": "raw",
   "metadata": {},
   "source": [
    "recommendation_trends['consensusEndDate'] = pd.to_datetime(recommendation_trends['consensusEndDate'], unit='ms')"
   ]
  },
  {
   "cell_type": "raw",
   "metadata": {},
   "source": [
    "recommendation_trends['consensusStartDate'] = pd.to_datetime(recommendation_trends['consensusStartDate'], unit='ms')"
   ]
  },
  {
   "cell_type": "raw",
   "metadata": {},
   "source": [
    "recommendation_trends['corporateActionsAppliedDate'] = pd.to_datetime(recommendation_trends['corporateActionsAppliedDate'], unit=\"ms\")"
   ]
  },
  {
   "cell_type": "raw",
   "metadata": {},
   "source": [
    "recommendation_trends.to_csv('recommendation_trends.csv')"
   ]
  },
  {
   "cell_type": "raw",
   "metadata": {},
   "source": [
    "news = requests.get(f'https://cloud.iexapis.com/stable/time-series/news/amzn?range=1m&limit=30&token={KEY}')"
   ]
  },
  {
   "cell_type": "raw",
   "metadata": {},
   "source": [
    "news = pd.DataFrame(news.json())"
   ]
  },
  {
   "cell_type": "raw",
   "metadata": {},
   "source": [
    "news['datetime'] = pd.to_datetime(news['datetime'], unit='ms')"
   ]
  },
  {
   "cell_type": "raw",
   "metadata": {},
   "source": [
    "news = news.set_index('datetime')"
   ]
  },
  {
   "cell_type": "raw",
   "metadata": {},
   "source": [
    "news.to_csv('news_last30.csv')"
   ]
  },
  {
   "cell_type": "raw",
   "metadata": {},
   "source": [
    "options = requests.get(f'https://cloud.iexapis.com/stable/stock/amzn/options?token={KEY}')"
   ]
  },
  {
   "cell_type": "raw",
   "metadata": {},
   "source": [
    "options = options.json()"
   ]
  },
  {
   "cell_type": "raw",
   "metadata": {},
   "source": [
    "all_contracts = []\n",
    "\n",
    "for expiration in options:\n",
    "    all_contracts.append(requests.get(f'https://cloud.iexapis.com/stable/stock/amzn/options/{expiration}?token={KEY}'))"
   ]
  },
  {
   "cell_type": "raw",
   "metadata": {},
   "source": [
    "all_options = []\n",
    "for exp in range(len(all_contracts)):\n",
    "    all_options.append(all_contracts[0].json())"
   ]
  },
  {
   "cell_type": "raw",
   "metadata": {},
   "source": [
    "for el in range(len(all_options)):\n",
    "    pd.DataFrame(all_options[el]).to_csv(f'options_{options[el]}.csv')"
   ]
  }
 ],
 "metadata": {
  "kernelspec": {
   "display_name": "Python 3",
   "language": "python",
   "name": "python3"
  },
  "language_info": {
   "codemirror_mode": {
    "name": "ipython",
    "version": 3
   },
   "file_extension": ".py",
   "mimetype": "text/x-python",
   "name": "python",
   "nbconvert_exporter": "python",
   "pygments_lexer": "ipython3",
   "version": "3.7.4"
  }
 },
 "nbformat": 4,
 "nbformat_minor": 4
}
