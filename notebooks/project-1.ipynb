{
 "cells": [
  {
   "cell_type": "markdown",
   "metadata": {},
   "source": [
    "# DSCI 511: Data Acquisition and Pre-Processing <br> Term Project Phase 1: Scoping a data set"
   ]
  },
  {
   "cell_type": "markdown",
   "metadata": {},
   "source": [
    "## The big picture\n",
    "Welcome to your term project! This is the first portion of a two-part, open-ended team assignment that will culminate in a presentation during the last week of class or the regularly scheduled final exam period. Overall, this term project is intended to provide some open-ended experience with building a complex dataset and making it available. Specifically, all projects for this course will entail the following:\n",
    "\n",
    "- The construction, acquistion, integration, enrichment, and distribution of a project-motivated and computationally significant dataset.\n",
    "\n",
    "The first report on your team's project will constitue a discussion of what the dataset is that you want to build/access/create, why you believe it will be possilbe to conduct, and how long you believe it will take to build, in addition to discussion of the sorts of tasks that will be involved. Additionally, this inital project planning report should speculate and provide examples potential dataset uses, whether academic or commercial.\n",
    "\n",
    "__Note__: All reports should inclue a high level abstract/discussion in a tone that is set for a completely diverse audience.\n",
    "\n",
    "Later on, a final report will recap progress at the task you're group has come up with, specifically revisiting what you _though_ the dataset development would take,  as compared to the actual work involved and obstacles encountered.\n",
    "\n",
    "__Important__: because your project reports will have discussion intermingled with data and code as output, I not only request the  submission of your work in Jupyter Notebooks format, but additionly recommend conducting your work as a group collaboratively in Jupyter notebooks."
   ]
  },
  {
   "cell_type": "markdown",
   "metadata": {},
   "source": [
    "## This is only a guideline\n",
    "\n",
    "While I will provide some idea of structure and expectation for your project it is important to note that this is an intentionally open-ended project. Hence, no specific rubric is provided. The courses of different projects will require overcoming different obstacles, and success in a data science project is ultimately a (partial) function of a team's abaility to adapt to project needs. However, all work should be well documented, articulately presented, and justified. If at any point it is unclear what to do or how to represent your project's work, please do not hesitate to ask your instructor for direction."
   ]
  },
  {
   "cell_type": "markdown",
   "metadata": {},
   "source": [
    "## Your team\n",
    "\n",
    "The first thing you'll have to do in this phase is organize into a project team. Data science is often conducted in teams, with different team members covering the diversity of knowledge and skills relevant to the different areas that a project must support to succeed. Even though our course is only focused on early-phase data science tasks (data set development), be sure to consider the strengths of your teamates and interests for gaining experience in dataset construction&mdash;if you want extensive experience with web scraping, pitch a project about this with a few other interested points. It will help to discuss interests. Be sure to write out the names of the project team's members in your first report and answer the two questions:\n",
    "\n",
    "1. What areas/skills/domains does the team member presently identify with?\n",
    "2. Into which areas/skills/domains would the team member like to grow?"
   ]
  },
  {
   "cell_type": "markdown",
   "metadata": {},
   "source": [
    "## Your topic\n",
    "\n",
    "The course of your project will be determined by two things:\n",
    "\n",
    "1. the motivations present in your project's team and\n",
    "2. the data your project is able to pull together.\n",
    "\n",
    "Thus, choosing your topic is closely tied to both your team and the data you are able to identify. To start, discuss the domain interests present on your project team. Te get you on your way, let's start with two questions:\n",
    "\n",
    "1. Is there an aspect of the IoT, natural world, society, literature, or art, etc. that you would like to investigate computationally through what might be considered 'data'? \n",
    "\n",
    "2. What sort of data-medium are you interested to work with?&mdash;For example: transaction records, stock prices, memes and online conversations, open-domain poems, congressional records, News Articles, songs and popularity, Associated Press Images, transit records, call logs, CCTV footage, etcetera.\n",
    "\n",
    "Whatever the direction you set for your project please make sure you document it well, keeping track of how its objectives and strategies change as you encounter available materials and other existing work."
   ]
  },
  {
   "cell_type": "markdown",
   "metadata": {},
   "source": [
    "As an example of these data sets, the information available will be obtain through use of public available API or other legal means to understand the information and its acceptable use policy.\n",
    "Most of this information will be either transaction records for product, sediment and count for tweets, or time slice of stock price movements."
   ]
  },
  {
   "cell_type": "markdown",
   "metadata": {},
   "source": [
    "## What you're responsible for in this phase\n",
    "Ok, so here's the goal again for phase 1. You must:\n",
    "\n",
    "- scope a computationally tangible artifact&mdash;heretofore known as the data set&mdash;whose study is expected to satisfy goals pertaining to the project's topic of interest.\n",
    "\n",
    "This phase of the project will set expectations and a work plan for your project's open-ended work. Not only should you scope the collection of your dataset, but determine what mode's of distribution will be possible once its produces. Will you have to distribute access code, or will you be able to directly provide links to stored data.\n",
    "\n",
    "Ultimately, the completion of your poject will produce raw materials for other folks (possibly you) interested in trying out analysis applications in future coursework (DSCI 521). So, as you identify a potential data set be sure to be realistic about what is possible to collect and how you can preprocess it for use! Ultimately, please make sure that some portion of your target data are guarenteed to be collectable. However, it's okay to try for some data that are a reach, just document any un- or partially successful efforts in your report and discuss what obstacles prevented those data from being collected.\n",
    "\n",
    "### Things I'll be looking for in a Phase 1 report\n",
    "\n",
    "- a background report on the team's members, their self-identified skills, and individual contributions\n",
    "- a discussion of what you would like to your data to do/hope it is good for\n",
    "- an exhibition of a sample of your data&mdash;show me it exists and what it looks like, even if very raw\n",
    "- a discussion of who might be interested in your data set\n",
    "- a discussion of how your data is limited and could be improved\n",
    "- a discussion of how your data were created, e.g., people texting, The Earth's molten core spinning, etc.\n",
    "- a discussion of what sort of access rights presently exist on your data and how/if you will make them available\n",
    "\n",
    "As a heads up, by the end of the term and in your final report I'll be looking for things like\n",
    "- a data dictionary or README.md that describes what is present in the data set and where or how to access\n",
    "- code that documents the construction of your data&mdash;I should be able to re-construct/re-access it!\n",
    "- code that allows me or someone else to interact with your data set\n",
    "- tables and figures indicating the size and variety present in your data\n",
    "\n",
    "_Note_: These are not exhaustive lists of topics or tasks worth covering in your project. In general, if there's something interesting about your dataset, whether relating to its construction, existence, representative population or _anything else_, then be sure to document it!"
   ]
  },
  {
   "cell_type": "markdown",
   "metadata": {},
   "source": [
    "#### Background report on the team's members, their self-identified skills, and individual contributions"
   ]
  },
  {
   "cell_type": "markdown",
   "metadata": {},
   "source": [
    "The team has four members: Justin Goheen, Kevin Fitzpatrick, Joe Larson, and Sandra Davies.\n",
    "The group created small bios and goals which are listed below:\n",
    "\n",
    "**Bio's:**\n",
    "\n",
    "•\t **Justin**: Data science and quant dev intern at hedge fund; undergrad in corp. Finance; additional coursework in compsci (C, C++); some computational finance and algorithmic trading; little industry experience due to career change. Good with: basic Python programming; managing git repos for groups; some use of ftplib and beauutifulsoup.\n",
    "\n",
    "•\t **Kevin**: I received my undergrad in Finance from Penn State.  I’ve worked in a corporate finance role in the healthcare industry throughout my career.  I taught myself Python over the past 3 years in order to streamline my job and work on various hobbies.  I’m experienced with data analysis (pandas, numpy, matplotlib), web scraping (beautifulsoup), and basic Python programming.  My contributions to this project could be assisting with scraping various data around the web as well as processing and cleaning it up.  I hope to learn best practices from my other teammates as well as share some knowledge if I’m able.\n",
    "\n",
    "•\t **Joe**: A life-long learner, (read old man), who is interested in relearning a topic he learned many years ago at Penn State - earning a Master in Expect system using Java in combination with calculus-based statistics (rusty in both). Currently working in management at a GSE and does little to no coding during the day. Drexel EE, and a GE Master black belt so OK on the math skills, I do not know it cold but a quick YouTube starts the neurons firing.  I have taken a bunch of Coursera classes in Data Science so my R is rusty and slow, but I can get it done in time. I learned a bunch about a lot of different R and Python packages, I get the major points. Python - taking CS570 - 910 so just above novice on that skill. \n",
    "\n",
    "•\t **Sandra**: :  Coming from Accounting background, looking to advance in Information Technology focusing to become a data science expert, though have little knowledge of python, I strive to advance my career for a greater tomorrow, for the past four month I have been studying  python for data science from Udemy to gain basic knowledge which have been a great advantage to me in this course though still not too familiar with some libraries. I must get it right is my goal."
   ]
  },
  {
   "cell_type": "markdown",
   "metadata": {},
   "source": [
    "#### Discussion of what you would like to your data to do/hope it is good for:\n",
    "\n",
    "**Goals:**\n",
    "\n",
    "•\t **Justin**: I'd like to develop this project into some shareable package which others may benefit from, and produce a result which can be used in a portfolio of work for employment outcomes. At a base level, I'd also like to gain a entry level understanding of scraping and making use of financial data which may not otherwise be sourced from a vendor.\n",
    "\n",
    "•\t **Kevin**: Ultimately we’d like our data to assist in buy and sell decisions for different stocks.  It’s our hope that the data we collect would allow a theoretical trader to profit from these buy/sell decisions.\n",
    "\n",
    "•\t **Joe**: Just a guess as we are all still learning - but the problem to solving is how volatile is a stock and how much of that volatility can be account for as a leading or lag indicator from Social media?  What is the correlation and time-sensitive of these factors?  Or another view could be if we expanded beyond one stock symbols  of the companies that are still run by the founder is social media sediment a good leading indicator? The last guess I will make is how good is social media able to offer insight into product performance and if a large enough fraction of sales will it be and impact to stock price?    \n",
    "\n",
    "•\t **Sandra**: To discuss the reason why investors should trust the data to be able to invest their money and how can social media be helpful in getting relevant data that will be used to solve problems. Also to identify positive and negative sentiment. "
   ]
  },
  {
   "cell_type": "markdown",
   "metadata": {},
   "source": [
    "#### Response"
   ]
  },
  {
   "cell_type": "markdown",
   "metadata": {},
   "source": [
    "The team's motivation within the group is to expand their Python skills as well as developing industry knowledge in finance, while learning what type of stock market information is reasonably obtainable.  The effort will result in enhancement the information available to those with data science interests.  Start to learn the world of what is possible and move towards what is practical to achieve with a small team. \n",
    "\n",
    "The sources we are planning to use for this group project are: \n",
    "Fundamental finance data: yahoo finance, google finance, koyfin\n",
    "Alternative data: keyword searches in amazon; sentiment in stocktwits; twitter\n",
    "\n",
    "    https://www.amazon.com/Best-Sellers/zgbs/ref=zg_mw_tab\n",
    "    https://www.tweepy.org/\n",
    "    https://snapshot.fidelity.com/fidresearch/snapshot/landing.jhtml#/research?symbol=AMZN&appCode=\n"
   ]
  },
  {
   "cell_type": "markdown",
   "metadata": {},
   "source": [
    "#### Exhibition of a sample of your data—show me it exists and what it looks like, even if very raw"
   ]
  },
  {
   "cell_type": "markdown",
   "metadata": {
    "collapsed": true
   },
   "source": [
    "Here are the current data sources and raw examples of the available data for public use:\n",
    "The data source has the link as well as the team member(s) that will be obtain data from this site.\n",
    "Thanks to Justin Goheen the group has a github site that will be used to host most of the groups work product, which can be found at:\n",
    "\n",
    "The group will be limited the manual data collect to 20-30 days so that the summary information set can pulled together.\n",
    "https://github.com/justingoheen/DSCI511_Group_Project"
   ]
  },
  {
   "cell_type": "markdown",
   "metadata": {},
   "source": [
    "•\t Joe -\n",
    "https://www.tweepy.org/\n",
    "\n",
    "Raw json output based on tracklist = ['#Amazon', '#amazon', '#amzn', '#AMZN']\n",
    "\n",
    "{\"created_at\":\"Wed Oct 09 23:19:08 +0000 2019\",\"id\":1182073034909376512,\"id_str\":\"1182073034909376512\",\"text\":\"Una pasi\\u00f3n que surge entre las arenas del desierto, al abrigo de una venganza y merced del destino. \\nConoce la hist\\u2026 https:\\/\\/t.co\\/lDtmgMAioq\",\"display_text_range\":[0,140],\"source\":\"\\u003ca href=\\\"https:\\/\\/crowdfireapp.com\\\" rel=\\\"nofollow\\\"\\u003eCrowdfire App\\u003c\\/a\\u003e\",\"truncated\":true,\"in_reply_to_status_id\":null,\"in_reply_to_status_id_str\":null,\"in_reply_to_user_id\":null,\"in_reply_to_user_id_str\":null,\"in_reply_to_screen_name\":null,\"user\":{\"id\":138627969,\"id_str\":\"138627969\",\"name\":\"Sol Taylor\",\"screen_name\":\"SolTaylorRdL\",\"location\":null,\"url\":null,\"description\":\"#Blogger literaria, publicista. Si deseas publicidad o portadas escribe a soltaylor.rdl@gmail.com\",\"translator_type\":\"none\",\"protected\":false,\"verified\":false,\"followers_count\":16200,\"friends_count\":8311,\"listed_count\":444,\"favourites_count\":8772,\"statuses_count\":262765,\"created_at\":\"Fri Apr 30 02:56:47 +0000 2010\",\"utc_offset\":null,\"time_zone\":null,\"geo_enabled\":false,\"lang\":null,\"contributors_enabled\":false,\"is_translator\":false,\"profile_background_color\":\"000000\",\"profile_background_image_url\":\"http:\\/\\/abs.twimg.com\\/images\\/themes\\/theme14\\/bg.gif\",\"profile_background_image_url_https\":\"https:\\/\\/abs.twimg.com\\/images\\/themes\\/theme14\\/bg.gif\",\"profile_background_tile\":false,\"profile_link_color\":\"000000\",\"profile_sidebar_border_color\":\"000000\",\"profile_sidebar_fill_color\":\"000000\",\"profile_text_color\":\"000000\",\"profile_use_background_image\":false,\"profile_image_url\":\"http:\\/\\/pbs.twimg.com\\/profile_images\\/794314402673676294\\/tmaCDUv__normal.jpg\",\"profile_image_url_https\":\"https:\\/\\/pbs.twimg.com\\/profile_images\\/794314402673676294\\/tmaCDUv__normal.jpg\",\"profile_banner_url\":\"https:\\/\\/pbs.twimg.com\\/profile_banners\\/138627969\\/1466096607\",\"default_profile\":false,\"default_profile_image\":false,\"following\":null,\"follow_request_sent\":null,\"notifications\":null},\"geo\":null,\"coordinates\":null,\"place\":null,\"contributors\":null,\"is_quote_status\":false,\"extended_tweet\":{\"full_text\":\"Una pasi\\u00f3n que surge entre las arenas del desierto, al abrigo de una venganza y merced del destino. \\nConoce la historia de Aisha y Sayeb. \\nLA \\u00daLTIMA PRINCESA DEL DESIERTO \\n#Amazon \\ud83d\\udc49 https:\\/\\/t.co\\/JedNOIFbCz\\n@KristelRalston\\n\\n#kindle #preventa #romance #romantica #contemporanea https:\\/\\/t.co\\/ZdXJgLPICe\",\"display_text_range\":[0,275],\"entities\":{\"hashtags\":[{\"text\":\"Amazon\",\"indices\":[172,179]},{\"text\":\"kindle\",\"indices\":[223,230]},{\"text\":\"preventa\",\"indices\":[231,240]},{\"text\":\"romance\",\"indices\":[241,249]},{\"text\":\"romantica\",\"indices\":[250,260]},{\"text\":\"contemporanea\",\"indices\":[261,275]}],\"urls\":[{\"url\":\"https:\\/\\/t.co\\/JedNOIFbCz\",\"expanded_url\":\"http:\\/\\/mybook.to\\/LPD\",\"display_url\":\"mybook.to\\/LPD\",\"indices\":[182,205]}],\"user_mentions\":[{\"screen_name\":\"KristelRalston\",\"name\":\"Kristel Ralston\",\"id\":1433672820,\"id_str\":\"1433672820\",\"indices\":[206,221]}],\"symbols\":[],\"media\":[{\"id\":1182073033416171522,\"id_str\":\"1182073033416171522\",\"indices\":[276,299],\"media_url\":\"http:\\/\\/pbs.twimg.com\\/media\\/EGeRKTdW4AI9rrr.jpg\",\"media_url_https\":\"https:\\/\\/pbs.twimg.com\\/media\\/EGeRKTdW4AI9rrr.jpg\",\"url\":\"https:\\/\\/t.co\\/ZdXJgLPICe\",\"display_url\":\"pic.twitter.com\\/ZdXJgLPICe\",\"expanded_url\":\"https:\\/\\/twitter.com\\/SolTaylorRdL\\/status\\/1182073034909376512\\/photo\\/1\",\"type\":\"photo\",\"sizes\":{\"thumb\":{\"w\":150,\"h\":150,\"resize\":\"crop\"},\"small\":{\"w\":453,\"h\":680,\"resize\":\"fit\"},\"large\":{\"w\":640,\"h\":960,\"resize\":\"fit\"},\"medium\":{\"w\":640,\"h\":960,\"resize\":\"fit\"}}}]},\"extended_entities\":{\"media\":[{\"id\":1182073033416171522,\"id_str\":\"1182073033416171522\",\"indices\":[276,299],\"media_url\":\"http:\\/\\/pbs.twimg.com\\/media\\/EGeRKTdW4AI9rrr.jpg\",\"media_url_https\":\"https:\\/\\/pbs.twimg.com\\/media\\/EGeRKTdW4AI9rrr.jpg\",\"url\":\"https:\\/\\/t.co\\/ZdXJgLPICe\",\"display_url\":\"pic.twitter.com\\/ZdXJgLPICe\",\"expanded_url\":\"https:\\/\\/twitter.com\\/SolTaylorRdL\\/status\\/1182073034909376512\\/photo\\/1\",\"type\":\"photo\",\"sizes\":{\"thumb\":{\"w\":150,\"h\":150,\"resize\":\"crop\"},\"small\":{\"w\":453,\"h\":680,\"resize\":\"fit\"},\"large\":{\"w\":640,\"h\":960,\"resize\":\"fit\"},\"medium\":{\"w\":640,\"h\":960,\"resize\":\"fit\"}}}]}},\"quote_count\":0,\"reply_count\":0,\"retweet_count\":0,\"favorite_count\":0,\"entities\":{\"hashtags\":[],\"urls\":[{\"url\":\"https:\\/\\/t.co\\/lDtmgMAioq\",\"expanded_url\":\"https:\\/\\/twitter.com\\/i\\/web\\/status\\/1182073034909376512\",\"display_url\":\"twitter.com\\/i\\/web\\/status\\/1\\u2026\",\"indices\":[117,140]}],\"user_mentions\":[],\"symbols\":[]},\"favorited\":false,\"retweeted\":false,\"possibly_sensitive\":false,\"filter_level\":\"low\",\"lang\":\"es\",\"timestamp_ms\":\"1570663148034\"}\n",
    "\n"
   ]
  },
  {
   "cell_type": "markdown",
   "metadata": {},
   "source": [
    "•\t Joe: \n",
    "https://snapshot.fidelity.com/fidresearch/snapshot/landing.jhtml#/research?symbol=AMZN&appCode=\n",
    " \n",
    "        Raw CSV down load of daily 7 tick points\n",
    "        Date\tTime\tOpen\tHigh\tLow\tClose\tVolume\n",
    "        10/3/2019\t9:30 AM\t1713\t1713\t1710.3\t1711.488\t24419\n",
    "        10/3/2019\t9:31 AM\t1711.71\t1713.19\t1709.265\t1713.19\t17130\n",
    "        10/3/2019\t9:32 AM\t1713.195\t1717.98\t1713.195\t1717.2906\t12633\n",
    "        10/3/2019\t9:33 AM\t1717.08\t1717.5177\t1713.34\t1715.41\t8656\n",
    "        10/3/2019\t9:34 AM\t1715\t1716.13\t1713.935\t1715.92\t3845\n",
    "        10/3/2019\t9:35 AM\t1715.89\t1715.89\t1714.06\t1714.7112\t4759\n",
    "        10/3/2019\t9:36 AM\t1715\t1716.5\t1714.8435\t1716.06\t3162\n",
    "        10/3/2019\t9:37 AM\t1715.03\t1715.28\t1714.25\t1714.45\t1852\n",
    "\n",
    "\n",
    "        A sample of the top news artical for Amazon for the day as listed by Fidelity - \n",
    "        This may be used  as raw data for the  \n",
    "\n",
    "            BRIEF-Amazon's Twitch Says Recording Of Stream Of Shooting Attacks In Halle Was Viewed By         About 2200 People In The 30 Minutes\n",
    "        REUTERS - 5:14 PM ET 10/9/2019\n",
    "        DEFAULT\n",
    "        Email Facebook. Twitter. LinkedIn. Print\n",
    "        Oct 9 (Reuters) - Twitch:\n",
    "\n",
    "        * A RECORDING OF THE STREAM OF SHOOTING ATTACKS IN GERMAN CITY OF HALLE WAS VIEWED BY                    APPROXIMATELY 2200 PEOPLE IN THE 30 MINUTES\n",
    "\n",
    "        * ACCOUNT OWNER WHO STREAMED SHOOTING ATTACKS IN HALLE, CREATED ACCOUNT ABOUT TWO MONTHS                PRIOR TO STREAMING THE SHOOTING\n",
    "\n",
    "        * ACCOUNT OWNER STREAMED SHOOTING ATTACKS IN HALLE ON TWITCH FOR 35 MINUTES, DURING WHICH                TIME IT WAS VIEWED BY ABOUT FIVE PEOPLE Source text: http://bit.ly/2p4hMZc\n",
    "\n",
    "\n"
   ]
  },
  {
   "cell_type": "markdown",
   "metadata": {},
   "source": [
    "Sample raw data from tweepy using:"
   ]
  },
  {
   "cell_type": "raw",
   "metadata": {
    "raw_mimetype": "text/x-python"
   },
   "source": [
    "import tweepy\n",
    "import csv\n",
    "from _tweepy_keys import *\n",
    "\n",
    "auth = tweepy.OAuthHandler(consumer_key, consumer_secret)\n",
    "auth.set_access_token(access_token, access_token_secret)\n",
    "\n",
    "api = tweepy.API(auth, wait_on_rate_limit=True)\n",
    "\n",
    "csvFile = open('amzn_tweets.csv', 'a')\n",
    "csvWriter = csv.writer(csvFile)\n",
    "\n",
    "for tweet in tweepy.Cursor(api.search, q=\"#AMZN\", count=100,\n",
    "                           lang=\"en\",\n",
    "                           since=\"2019-07-01\").items():\n",
    "    csvWriter.writerow([tweet.created_at, tweet.text.encode('utf-8')])"
   ]
  },
  {
   "cell_type": "raw",
   "metadata": {},
   "source": [
    "2019-10-12 12:21:32,b'RT @crypto__mak: Is Microsoft (MSFT) Stock a Better Investment Choice Than FAANG? https://t.co/GEUmPmAU0g #Cryptocurrency #aapl #alphabet #\\xe2\\x80\\xa6'\n",
    "2019-10-12 04:02:23,b'Their secrets just might kill them.\\xc2\\xa0#bookpromotion\\xc2\\xa0KILLING SECRETS by KL Docter #AMZN #ebook https://t.co/vx1h4imHaW https://t.co/aBivkWzv6M'\n",
    "2019-10-11 22:34:13,b'RT @JasonPester: SpaghettiCode: TRENDING\\n\\n#Epson launches new #Moverio #BT30C #smartglasses that can connect to various #Android #smartphon\\xe2\\x80\\xa6'\n",
    "2019-10-11 22:34:09,b'RT @JasonPester: SpaghettiCode: TRENDING\\n\\n#Epson launches new #Moverio #BT30C #smartglasses that can connect to various #Android #smartphon\\xe2\\x80\\xa6'\n",
    "2019-10-11 22:34:07,b'RT @JasonPester: SpaghettiCode: TRENDING\\n\\n#Epson launches new #Moverio #BT30C #smartglasses that can connect to various #Android #smartphon\\xe2\\x80\\xa6'\n",
    "2019-10-11 22:34:04,b'RT @JasonPester: SpaghettiCode: TRENDING\\n\\n#Epson launches new #Moverio #BT30C #smartglasses that can connect to various #Android #smartphon\\xe2\\x80\\xa6'\n",
    "2019-10-11 20:15:49,b'$AMZN dominated by bears dragging the market lower throughout the day: https://t.co/6gV3oGqlOP\\nSentiment: Neutral #AMZN #Amazon'\n",
    "2019-10-11 18:50:22,b'https://t.co/hjw5NkldEX Allison K. Hill named new CEO of booksellers trade group $AMZN #AMZN #Internationaltrade #Economy #Executivechanges'\n",
    "2019-10-11 18:50:18,b'Allison K. Hill named new CEO of booksellers trade group $AMZN #AMZN #Internationaltrade #Economy #Executivechanges https://t.co/QuLH26hm17'\n",
    "2019-10-11 18:30:41,b'https://t.co/arAigi1YiI Big Tech is now a big punching bag for politicians $AMZN #AMZN #Technology #Elections #Socialmedia'\n",
    "2019-10-11 18:30:37,b'Big Tech is now a big punching bag for politicians $AMZN #AMZN #Technology #Elections #Socialmedia https://t.co/4yDxIeLBri'\n",
    "2019-10-11 17:06:09,\"b\"\"Buy this acclaimed, buzzed-about novel while it's still cheap! It was named one of the Best Books of 2018 by Kirkus\\xe2\\x80\\xa6 https://t.co/6JXNezm0bP\"\"\"\n",
    "2019-10-11 16:05:15,\"b'@Kr00ney @jackiereses @JesseDorogusker @CNBC @Square @AndrewMDavis2 #SQ has a lot of similarities to #APPL, #AMZN,\\xe2\\x80\\xa6 https://t.co/fiKleXQMSN'\"\n",
    "2019-10-11 12:20:05,b'Is Microsoft (MSFT) Stock a Better Investment Choice Than FAANG? https://t.co/GEUmPmAU0g #Cryptocurrency #aapl #alphabet #Amazon #amzn'\n",
    "2019-10-11 03:00:05,b'EWF Chart of the day #AMZN #AMAZON 10.10.2019 #trading #forex #elliottwave #FXsignals #forexsignals #pips\\xe2\\x80\\xa6 https://t.co/6UILvtsTKY'\n",
    "2019-10-11 02:59:55,b'EWF Chart of the day #AMZN #AMAZON 10.10.2019 #trading #forex #elliottwave #FXsignals #forexsignals #pips\\xe2\\x80\\xa6 https://t.co/W52lHNY9nw'\n",
    "2019-10-11 02:57:38,b'The Group 3 Daily Technical Video is available for members viewing https://t.co/x2kmaKA6Ui #ElliottWave #Stocks\\xe2\\x80\\xa6 https://t.co/22Pj0wZR5Z'\n",
    "2019-10-11 00:16:15,b'4 &amp; 1hour charts for the Group 3 instruments are available for members viewing https://t.co/x2kmaKA6Ui #ElliottWave\\xe2\\x80\\xa6 https://t.co/wCbwm27rw8'\n",
    "2019-10-10 23:45:35,b'The Group 3 Live Analysis / #Trading Room video recording is available for members https://t.co/x2kmaKA6Ui\\xe2\\x80\\xa6 https://t.co/VHxeeVcm2N'\n",
    "2019-10-10 20:18:31,b'$AMZN enters Death Cross for the first time since April 24th: https://t.co/cE6DVlUTEx\\nSentiment: Neutral #AMZN #Amazon'\n",
    "2019-10-10 18:26:21,b'$AMZN is watching your cloud cam footage. #AMZN #Investors raping moar privacy... smh...'\n",
    "2019-10-10 18:10:07,b'The Truth will set the country free.\\n\\n$AAPL $AMZN $FB $TSLA $TWTR\\n$GOOGL $GOOG\\n#WAPO #ABC #NYTimes #TSLA #AMZN\\xe2\\x80\\xa6 https://t.co/jz1RwPWmwo'\n",
    "2019-10-10 17:57:26,b'We are putting a down grade on #AMZN\\n\\nOur price Target is $65 to $75 a share.\\n\\nCrazy right? Just wait for it.\\xe2\\x80\\xa6 https://t.co/GP0MG4juQI'\n",
    "2019-10-10 17:03:30,b'RT @JasonPester: SpaghettiCode: TRENDING\\n\\n#Epson launches new #Moverio #BT30C #smartglasses that can connect to various #Android #smartphon\\xe2\\x80\\xa6'\n",
    "2019-10-10 17:03:25,b'SpaghettiCode: TRENDING\\n\\n#Epson launches new #Moverio #BT30C #smartglasses that can connect to various #Android\\xe2\\x80\\xa6 https://t.co/YPKT1s9eJh'\n",
    "2019-10-10 15:47:27,b'SpaghettiCode: TRENDING\\n\\n#Epson launches new #Moverio #BT30C #smartglasses that can connect to various #Android\\xe2\\x80\\xa6 https://t.co/lGuq8jFWT0'\n",
    "2019-10-10 15:43:13,b'SpaghettiCode: TRENDING\\n\\n#Epson launches new #Moverio #BT30C #smartglasses that can connect to various #Android\\xe2\\x80\\xa6 https://t.co/HsCPSSUQxY'\n",
    "2019-10-10 15:36:30,b'SpaghettiCode: TRENDING\\n\\n#Epson launches new #Moverio #BT30C #smartglasses that can connect to various #Android\\xe2\\x80\\xa6 https://t.co/1pFmXsN31u'\n",
    "2019-10-10 15:33:05,b'$amzn expect 1710 to continue to bounce in this big name #amzn so far so good off that level'\n",
    "2019-10-10 14:59:01,b'It\\xe2\\x80\\x99s a fun fact that #MAGA made up of top 4 most valuable companies in the world #msft #appl #googl #amzn @jimcramer'\n",
    "2019-10-10 13:37:10,b'Interesting #acquisition chatter on $EROS #AMZN https://t.co/9hDqNxFg0s'\n",
    "2019-10-10 12:22:14,\"b'Heres How Much Youd Make If You Invested $1,000 in Google 10 Years Ago #Crypto #aapl #alphabet #Amazon #amzn #apple\\xe2\\x80\\xa6 https://t.co/lixKjFaAUE'\"\n",
    "2019-10-10 03:06:35,b'The German synagogue shooting was streamed on Twitch #AMZN  https://t.co/KSHwCO50FV'\n",
    "2019-10-10 02:52:19,b'RT @WorldOil: Weatherford hosts Production 4.0 forum at its Enterprise Software Conference. Learn more - https://t.co/vBdthXChBD\\n\\n#WFT #Wea\\xe2\\x80\\xa6'\n",
    "2019-10-10 02:02:59,b'U.S. Weighs Currency Pact With China as Part of Partial Trade Deal #Amzn #bidu #baba #NYSE #NASDAQ #bzun #tradewar  https://t.co/8lTmsf5fel'\n",
    "2019-10-10 00:12:40,b'4 &amp; 1 hour charts for Group 3 instruments are available for members viewing https://t.co/x2kmaKA6Ui #ElliottWave\\xe2\\x80\\xa6 https://t.co/qFtfuBvN4e'\n",
    "2019-10-09 22:39:14,b'RT @StefanKrecher: AMZN 1D Bullish Divergence - #AMZN chart https://t.co/rZN8M9UIaf'\n",
    "2019-10-09 22:25:34,b'AMZN 1D Bullish Divergence - #AMZN chart https://t.co/rZN8M9UIaf'\n",
    "2019-10-09 21:02:04,b'The Group 3 Live Analysis / #Trading Room video recording is available for members https://t.co/x2kmaKA6Ui\\xe2\\x80\\xa6 https://t.co/2mxGcz7nLw'\n",
    "2019-10-09 21:00:41,\"b\"\"Someone's willing to destroy them both, but who?  #BookPromo #AMZN\\xc2\\xa0#WriterRT\\xc2\\xa0Killing\\xc2\\xa0Secrets, KL Docter\\xe2\\x80\\xa6 https://t.co/HRxXPMUXkL\"\"\"\n",
    "2019-10-09 20:18:32,b'$AMZN closes above its opening price after recovering from early selling pressure: https://t.co/MyH1bhuPtk\\nSentiment: Neutral #AMZN #Amazon'\n",
    "2019-10-09 18:53:14,\"b'coupla days back,I sat ona couch in #croma.Goton my smartphone &amp;ordered 2air purifiers,1waterpurifier,1 printer,1ai\\xe2\\x80\\xa6 https://t.co/cjfQ1h5YZK'\"\n",
    "2019-10-09 17:16:52,\"b\"\"RT @JohnLGhiorso: Amazon Echo Loop -- everything we know about Amazon's wacky new smart ring https://t.co/2m3Sw0Dwgo #amzn #alexa #voicefir\\xe2\\x80\\xa6\"\"\"\n",
    "2019-10-09 17:13:22,\"b\"\"Amazon Echo Loop -- everything we know about Amazon's wacky new smart ring https://t.co/2m3Sw0Dwgo #amzn #alexa #voicefirst\"\"\"\n",
    "2019-10-09 16:17:53,b'Amazon challenges Google and Facebook with surprising new multi-billion dollar business \\xe2\\x80\\x93 GeekWire #amzn #googl #fb\\xe2\\x80\\xa6 https://t.co/y2GaKHbLEt'\n",
    "2019-10-09 16:16:30,b'Amazon\\xe2\\x80\\x99s advertising arm is getting so big it held a major conference for brands \\xe2\\x80\\x93 GeekWire @amazon @amzn #amzn\\xe2\\x80\\xa6 https://t.co/HyITvSqNCG'\n",
    "2019-10-09 15:30:39,b'Amazon Forges Ahead with Grocery Store Plans\\xe2\\x80\\x94Signs a Dozen LA Leases\\n\\nAmazon is continuing to act on its plan to op\\xe2\\x80\\xa6 https://t.co/YisB4VRP3G'\n",
    "2019-10-09 12:30:17,\"b\"\"Her ex will reclaim her if Patrick can't stop him. KILLING SECRETS, KL Docter #suspense\\xc2\\xa0#AMZN #Goodreads\\xc2\\xa0#mustread\\xc2\\xa0https://t.co/vx1h4i56jo\"\"\"\n",
    "2019-10-09 10:16:25,\"b'.@MorningstarInc analyst RJ Hottovy believes Amazon could be worth as much as $1.2 trillion, attributing $550 billi\\xe2\\x80\\xa6 https://t.co/BCbizIHicg'\"\n",
    "2019-10-09 07:17:35,b'amazon - #AMZN chart https://t.co/6y6dfe9Adp'\n",
    "2019-10-09 06:07:05,b'RT @PascalGienger: #AMZN you suck. Stop trying to sell me #AmazonPrime like the drug dealer downtown. https://t.co/ixXOgJowx9'\n",
    "2019-10-09 04:56:51,b'Amazon held its first big advertising conference called AdCon last week @CNBC #amzn #NYSE #NASDAQ  https://t.co/mI0rrlS9WH'\n",
    "2019-10-09 02:13:10,\"b'RT @rebelwrites_: Forget the real world and come to 19th century Gold Sky, a place where menage marriages, mail-order grooms, and diversity\\xe2\\x80\\xa6'\"\n",
    "2019-10-09 02:06:38,\"b'RT @rebelwrites_: Forget the real world and come to 19th century Gold Sky, a place where menage marriages, mail-order grooms, and diversity\\xe2\\x80\\xa6'\"\n",
    "2019-10-09 01:17:12,\"b'RT @KarenDocter: A serial killer stalks the Denver streets. #RomanticSuspense\\xc2\\xa0#Amzn\\xc2\\xa0KILLING SECRETS, KL Docter\\xc2\\xa0https://t.co/5dSbfZn6Tr\\xc2\\xa0#Goo\\xe2\\x80\\xa6'\"\n",
    "2019-10-09 01:16:03,b'Vestager warns Big Tech she will move beyond competition fines #GOOGL #AMZN #FB https://t.co/j8czkApewl via @financialtimes'\n",
    "2019-10-09 01:15:18,\"b'A serial killer stalks the Denver streets. #RomanticSuspense\\xc2\\xa0#Amzn\\xc2\\xa0KILLING SECRETS, KL Docter\\xc2\\xa0https://t.co/5dSbfZn6Tr\\xc2\\xa0#Goodreads #thriller'\"\n",
    "2019-10-08 23:45:09,b'4 &amp; 1 hour charts for Group 3 instruments are available for members viewing https://t.co/x2kmaKA6Ui #ElliottWave\\xe2\\x80\\xa6 https://t.co/3G5pbSy9nu'\n",
    "2019-10-08 23:22:44,b'The Group 3 Live Analysis / #Trading Room video recording is available for members https://t.co/x2kmaKA6Ui\\xe2\\x80\\xa6 https://t.co/raLNyqC5fM'\n",
    "2019-10-08 22:28:04,b'#AMZN you suck. Stop trying to sell me #AmazonPrime like the drug dealer downtown. https://t.co/ixXOgJowx9'\n",
    "2019-10-08 20:17:04,b'$AMZN dominated by bears dragging the market lower throughout the day: https://t.co/d8IrWcYvJE\\nSentiment: Slightly bearish #AMZN #Amazon'\n",
    "2019-10-08 17:06:20,\"b\"\"Buy this acclaimed, buzzed-about novel while it's still cheap! It was named one of the Best Books of 2018 by Kirkus\\xe2\\x80\\xa6 https://t.co/y6RXTXjGuN\"\"\"\n",
    "2019-10-08 16:45:16,\"b'Trust is all that will save them. Killing Secrets, KL Docter #suspense\\xc2\\xa0#IndieBooksBeSeen\\xc2\\xa0#mustread\\xc2\\xa0#AMZN\\xc2\\xa0#kindlemojo\\xc2\\xa0https://t.co/vx1h4i56jo'\"\n",
    "2019-10-08 16:27:32,b'$AMZN - Daily\\n\\nClose to Death Cross..\\nmay be by tomorrow? if slide continues ..\\n\\nSMA 50 (pink) X down SMA 200 (gree\\xe2\\x80\\xa6 https://t.co/IkUDeJ428I'\n",
    "2019-10-08 15:52:21,b'AMZN - #AMZN chart https://t.co/rVhO2fuo5V'\n",
    "2019-10-08 15:40:40,\"b\"\"This one's set up for a real break - #AMZN chart https://t.co/QnUYZGZB08\"\"\"\n",
    "2019-10-08 15:22:06,\"b'RT @rebelwrites_: Forget the real world and come to 19th century Gold Sky, a place where menage marriages, mail-order grooms, and diversity\\xe2\\x80\\xa6'\"\n",
    "2019-10-08 14:45:10,b'RT @ChartChampions: Stock market is well and truly back with great volatility. Do miss day trading this looks like I will be back on the gr\\xe2\\x80\\xa6'\n",
    "2019-10-08 14:15:14,b'Stock market is well and truly back with great volatility. Do miss day trading this looks like I will be back on th\\xe2\\x80\\xa6 https://t.co/hYlCLWdMSv'\n",
    "2019-10-08 13:57:44,\"b\"\"RT @FuturumResearch: The Amazon 2019 hardware launch event was filled with new Alex-powered gadgets \\xe2\\x80\\x93 14 of them to be precise. Here's a ru\\xe2\\x80\\xa6\"\"\"\n",
    "2019-10-08 13:30:29,b'Forgot #brexit \\n\\nAnd let\\xe2\\x80\\x99s add:\\n#Turkey / #Kurds conflict\\n#Economyslowdown - Deflation?\\n#repo concerns\\n\\nLet me know\\xe2\\x80\\xa6 https://t.co/XL8bezGgZP'\n",
    "2019-10-08 12:40:32,\"b'RT @rebelwrites_: Forget the real world and come to 19th century Gold Sky, a place where menage marriages, mail-order grooms, and diversity\\xe2\\x80\\xa6'\"\n",
    "2019-10-08 12:06:59,\"b'RT @rebelwrites_: Forget the real world and come to 19th century Gold Sky, a place where menage marriages, mail-order grooms, and diversity\\xe2\\x80\\xa6'\"\n",
    "2019-10-08 12:05:06,b'#Amazon warehouse workers have new hope as Supreme Court refuses to hear a case blocking their appeal.\\xe2\\x80\\xa6 https://t.co/fjAbyQ5XKC'\n",
    "2019-10-08 02:23:39,\"b'RT @rebelwrites_: Forget the real world and come to 19th century Gold Sky, a place where menage marriages, mail-order grooms, and diversity\\xe2\\x80\\xa6'\"\n",
    "2019-10-08 01:31:01,b'$AMZN #AMZN Which TL alert is tested first? https://t.co/VCC34s4xDP'\n",
    "2019-10-08 00:54:19,\"b'RT @rebelwrites_: Forget the real world and come to 19th century Gold Sky, a place where menage marriages, mail-order grooms, and diversity\\xe2\\x80\\xa6'\"\n",
    "2019-10-08 00:22:55,\"b'RT @rebelwrites_: Forget the real world and come to 19th century Gold Sky, a place where menage marriages, mail-order grooms, and diversity\\xe2\\x80\\xa6'\"\n",
    "2019-10-08 00:04:52,b'4 &amp; 1 hour charts for Group 3 instruments are available for members viewing https://t.co/x2kmaKA6Ui #ElliottWave\\xe2\\x80\\xa6 https://t.co/dV4Zd31Dc2'\n",
    "2019-10-07 23:57:38,b'The Group 3 Live Analysis / #Trading Room video recording is available for members https://t.co/x2kmaKA6Ui\\xe2\\x80\\xa6 https://t.co/3AoOBqVVUQ'\n",
    "2019-10-07 21:30:16,\"b\"\"The Amazon 2019 hardware launch event was filled with new Alex-powered gadgets \\xe2\\x80\\x93 14 of them to be precise. Here's a\\xe2\\x80\\xa6 https://t.co/9lk0qQ5wQE\"\"\"\n",
    "2019-10-07 20:40:51,\"b'RT @rebelwrites_: Forget the real world and come to 19th century Gold Sky, a place where menage marriages, mail-order grooms, and diversity\\xe2\\x80\\xa6'\"\n",
    "2019-10-07 20:37:12,\"b'RT @rebelwrites_: Forget the real world and come to 19th century Gold Sky, a place where menage marriages, mail-order grooms, and diversity\\xe2\\x80\\xa6'\"\n",
    "2019-10-07 20:16:20,\"b\"\"$AMZN closes within prior day's range: https://t.co/XjiUfBnofR\\nSentiment: Neutral #AMZN #Amazon\"\"\"\n",
    "2019-10-07 20:07:23,b'The hard data says the US economy is just fine @CNBC #amzn #NYSE #NASDAQ  https://t.co/sLSH4UYTYs'\n",
    "2019-10-07 20:05:55,\"b'RT @rebelwrites_: Forget the real world and come to 19th century Gold Sky, a place where menage marriages, mail-order grooms, and diversity\\xe2\\x80\\xa6'\"\n",
    "2019-10-07 19:59:29,\"b'RT @rebelwrites_: Forget the real world and come to 19th century Gold Sky, a place where menage marriages, mail-order grooms, and diversity\\xe2\\x80\\xa6'\"\n",
    "2019-10-07 19:46:42,\"b'RT @rebelwrites_: Forget the real world and come to 19th century Gold Sky, a place where menage marriages, mail-order grooms, and diversity\\xe2\\x80\\xa6'\"\n",
    "2019-10-07 19:43:09,\"b'RT @rebelwrites_: Forget the real world and come to 19th century Gold Sky, a place where menage marriages, mail-order grooms, and diversity\\xe2\\x80\\xa6'\"\n",
    "2019-10-07 19:20:07,\"b'RT @rebelwrites_: Forget the real world and come to 19th century Gold Sky, a place where menage marriages, mail-order grooms, and diversity\\xe2\\x80\\xa6'\"\n",
    "2019-10-07 19:18:46,\"b'RT @rebelwrites_: Forget the real world and come to 19th century Gold Sky, a place where menage marriages, mail-order grooms, and diversity\\xe2\\x80\\xa6'\"\n",
    "2019-10-07 19:14:04,\"b'Forget the real world and come to 19th century Gold Sky, a place where menage marriages, mail-order grooms, and div\\xe2\\x80\\xa6 https://t.co/2FmjmJ25yM'\"\n",
    "2019-10-07 12:33:08,\"b\"\"...too bad you can't pay for @amazonprimenow with #crypto\\n\\n#amzn\"\"\"\n",
    "2019-10-07 12:15:11,b'Weatherford hosts Production 4.0 forum at its Enterprise Software Conference. Learn more - https://t.co/vBdthXChBD\\xe2\\x80\\xa6 https://t.co/iQVEzuppQo'\n",
    "2019-10-07 00:07:06,\"b\"\"Smart others CEO\\xe2\\x80\\x99s should do the same. Tim Cook spent a lot of time charming Trump's people, and it's paying off.\\xe2\\x80\\xa6 https://t.co/R7rWvyHyVr\"\"\"\n",
    "2019-10-06 21:30:32,b'$AMZN GOOD BOUNCE TARGETING BROKEN 1860 WITH SO MANY Resistances - #AMZN TradingView https://t.co/WQscX4YJip'\n",
    "2019-10-06 17:13:39,b'The Big Five #FAANG Stock and Sector Service is now posted for Sunday       #AMZN #AAPL #FB #NFLX #TSLA #GOOGL and\\xe2\\x80\\xa6 https://t.co/vcIg4aSYJt'\n",
    "2019-10-06 13:49:26,b'RT https://t.co/RxJK7yJ1FH Socially Responsible Businesses #Financial #AMZN #CRM #GOOGL #BillGates #GivingPledge\\xe2\\x80\\xa6 https://t.co/dEZZiM81sY'\n",
    "2019-10-06 12:39:20,b'Socially Responsible Businesses\\n#Financial #AMZN #CRM #GOOGL #BillGates #GivingPledge #MarcBenioff #Unions\\xe2\\x80\\xa6 https://t.co/hKpjUlSHEF'\n",
    "2019-10-06 11:55:45,\"b'And so it begins. #AMZN + #legal = value at lower price.\\nThe end of lawyers? No. But note these words, and note the\\xe2\\x80\\xa6 https://t.co/bjFpCtv0pS'\"\n",
    "2019-10-06 01:30:21,b'Speculation or #FederalReserve or is it me in the last 14 yrs notice that the PPL plunge protection team fix every\\xe2\\x80\\xa6 https://t.co/BMG2Pcq2vN'\n"
   ]
  },
  {
   "cell_type": "markdown",
   "metadata": {},
   "source": [
    "####  Discussion of how your data were created:\n",
    "\n",
    "The data sources have variable ways in which the information is created; some of the means the data is create are: tweets are via the folks typing opinions/facts into their tweeter account and sharing, News is created from either on staff or freelance reporters and sometimes posted online, stock price information is provided from stock transaction occurring and records by the exchanges and the information is made available either through APIs or through manual gathering means. Manual gather methods may cause inconsistency in the raw data gathered and the ways in which the data is formatted for analysis."
   ]
  },
  {
   "cell_type": "markdown",
   "metadata": {},
   "source": [
    "#### Discussion of what sort of access rights presently exist on your data and how/if you will make them available:\n",
    "\n",
    "•\t Currently, screen scaping is allowed in the USA per this article:  http://scraping.pro/us-court-scraping-against-tos-legal/.  \n",
    "•\t The use of API is another means in which data will be gathered. Each API will have different limitations on the use, gathering and sharing of information provided. As an example, here is a faction of the tweeter account limitations: \n",
    "\n",
    "        Current Twitter limits\n",
    "        The current technical limits for accounts are:\n",
    "        •\t Direct Messages (daily): The limit is 1,000 messages sent per day.\n",
    "        •\t Tweets: 2,400 per day. The daily update limit is further broken down into smaller \n",
    "              limits for semi-hourly intervals. Retweets are counted as Tweets.\n",
    "        •\t Changes to account email: 4 per hour.\n"
   ]
  },
  {
   "cell_type": "markdown",
   "metadata": {},
   "source": [
    "#### Discussion of who might be interested in your data set\n",
    "\n",
    "* **Justin**: buyside analysts; academics interested in alternative economic indicators; traders<br>\n",
    "\n",
    "\n",
    "* **Kevin**: traders/investors\n",
    "\n",
    "\n",
    "* **Sandra**: Investors, Banks who want to finance any project of the organization.\n",
    "\n",
    "\n",
    "* **Joe**: If a correlation is found, as Justin shared - Analytics, Fund managers,  day traders, communication leaders within the company, etc"
   ]
  },
  {
   "cell_type": "markdown",
   "metadata": {},
   "source": [
    "#### Discussion of how your data is limited and could be improved "
   ]
  },
  {
   "cell_type": "markdown",
   "metadata": {},
   "source": [
    "* **Justin**: Financial data comes at a heavy premium and is typically highly guarded behind paywalls or, if publicly available, the data might be made available with a very explicit clause to not use the data in a revenue generating manner. As for the twitter data, I'd imagine there are message pull limits with regard to how much the api can be utilized for an academic purpose; both scenarios limit the data usage under some license terms and those terms should be respected so as to not violate licensing agreements.\n",
    "    \n",
    "\n",
    "* **Kevin**: One way our data is limited is by different financial websites scraping rules.  There might be valuable data available on a website but they may have strict no scraping rules.  \n",
    "\n",
    "* **Sandra**: if the data is unstructured, it will require more time to clean it up and structuring it in a way to best explain its purpose. If the volume of the data is small, it will be a limitation as much data is required to be able to solve the problem. \n",
    "\n",
    "* **Joe**: limited by: time, talent, access, storage, and current tech abilities.  \n",
    "improved via:  just a matter of money and lives… if the improvement is a 0.1 sigma improvement or a 5 sigma event, only time and testing would tell.  We could P hack our way to some type of correlation improvement, I.e. increase data set by “n” more data sets\n"
   ]
  }
 ],
 "metadata": {
  "celltoolbar": "Raw Cell Format",
  "kernelspec": {
   "display_name": "Python 3",
   "language": "python",
   "name": "python3"
  },
  "language_info": {
   "codemirror_mode": {
    "name": "ipython",
    "version": 3
   },
   "file_extension": ".py",
   "mimetype": "text/x-python",
   "name": "python",
   "nbconvert_exporter": "python",
   "pygments_lexer": "ipython3",
   "version": "3.7.3"
  }
 },
 "nbformat": 4,
 "nbformat_minor": 2
}
